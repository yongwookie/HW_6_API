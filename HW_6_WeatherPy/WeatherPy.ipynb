{
 "cells": [
  {
   "cell_type": "markdown",
   "metadata": {},
   "source": [
    "# WeatherPy\n",
    "----\n",
    "\n",
    "### Analysis\n",
    "* As expected, the weather becomes significantly warmer as one approaches the equator (0 Deg. Latitude). More interestingly, however, is the fact that the southern hemisphere tends to be warmer this time of year than the northern hemisphere. This may be due to the tilt of the earth.\n",
    "* There is no strong relationship between latitude and cloudiness. However, it is interesting to see that a strong band of cities sits at 0, 80, and 100% cloudiness.\n",
    "* There is no strong relationship between latitude and wind speed. However, in northern hemispheres there is a flurry of cities with over 20 mph of wind.\n",
    "\n",
    "---\n",
    "\n",
    "#### Note\n",
    "* Instructions have been included for each segment. You do not have to follow them exactly, but they are included to help you think through the steps."
   ]
  },
  {
   "cell_type": "code",
   "execution_count": null,
   "metadata": {
    "scrolled": true
   },
   "outputs": [],
   "source": [
    "# Dependencies and Setup\n",
    "import pandas as pd\n",
    "import numpy as np\n",
    "import requests\n",
    "import time\n",
    "import matplotlib.pyplot as plt\n",
    "from pandas.io.json import json_normalize\n",
    "\n",
    "\n",
    "# Import API key\n",
    "from api_keys import api_key\n",
    "\n",
    "# use citipy to determine city based on latitude and longitude\n",
    "from citipy import citipy\n",
    "\n",
    "# Save output file as csv\n",
    "output_data_file = \"output_data/cities.csv\"\n",
    "\n",
    "# range of Lat and Lng\n",
    "lat_range = (-90, 90)\n",
    "lng_range = (-180, 180)"
   ]
  },
  {
   "cell_type": "markdown",
   "metadata": {},
   "source": [
    "## Generate Cities List"
   ]
  },
  {
   "cell_type": "code",
   "execution_count": null,
   "metadata": {},
   "outputs": [],
   "source": [
    "# Empty list for lat_lngs and cities\n",
    "lat_lngs = []\n",
    "cities = []\n",
    "\n",
    "# Create a set of random lat and lng combinations\n",
    "lats = np.random.uniform(low=-100.000, high=100.000, size=1500)\n",
    "lngs = np.random.uniform(low=-200.000, high=1200.000, size=1500)\n",
    "lat_lngs = zip(lats, lngs)\n",
    "\n",
    "# Identify nearest city for each lat, lng combination\n",
    "for lat_lng in lat_lngs:\n",
    "    city = citipy.nearest_city(lat_lng[0], lat_lng[1]).city_name\n",
    "    \n",
    "    # If the city is unique, append to cities list\n",
    "    if city not in cities:\n",
    "        cities.append(city)\n",
    "\n",
    "# Print the length of the cities\n",
    "len(cities)"
   ]
  },
  {
   "cell_type": "markdown",
   "metadata": {},
   "source": [
    "### Perform API Calls\n",
    "* Perform a weather check on each city using a series of successive API calls.\n",
    "* Include a print log of each city as it'sbeing processed (with the city number and city name).\n"
   ]
  },
  {
   "cell_type": "code",
   "execution_count": null,
   "metadata": {},
   "outputs": [],
   "source": [
    "\n",
    "url = \"http://api.openweathermap.org/data/2.5/weather?\"\n",
    "units = \"metric\"\n",
    "query_url = f\"{url}appid=423160d06ea84b634174ef9038841d0f&units={units}&q=\"\n",
    "\n",
    "city_data=[]\n",
    "name=[]\n",
    "cloudness=[]\n",
    "country=[]\n",
    "date=[]\n",
    "humidity=[]\n",
    "lat=[]\n",
    "lng=[]\n",
    "max_temp=[]\n",
    "wind_speed=[]\n",
    "\n",
    "print(\"Begining Data Retrieval\")\n",
    "print(\"---------------------------------------------------\")\n",
    "  \n",
    "i=1\n",
    "for city in cities:\n",
    "        try:\n",
    "            response = requests.get(query_url + city).json()\n",
    "            if response['cod'] == 200:\n",
    "                print(\"Processing Record \" + str(i) + \" of Set 1 | \" + city)\n",
    "                #city_data.append(response)\n",
    "                name.append(response['name'])\n",
    "                cloudness.append(response[\"clouds\"][\"all\"])\n",
    "                country.append(response['sys']['country'])\n",
    "                date.append(response['sys']['sunrise'])\n",
    "                humidity.append(response['main']['humidity'])\n",
    "                lat.append(response['coord']['lat'])\n",
    "                lng.append(response['coord']['lon'])\n",
    "                wind_speed.append(response['wind']['speed'])\n",
    "                max_temp.append(response['main']['temp_max'])\n",
    "            else:\n",
    "                print(f\"City not found,skipping...\")\n",
    "        except:\n",
    "            print(f\"{response} Exception...\")\n",
    "\n",
    "        i=i+1"
   ]
  },
  {
   "cell_type": "code",
   "execution_count": null,
   "metadata": {},
   "outputs": [],
   "source": [
    "cloudnes"
   ]
  },
  {
   "cell_type": "markdown",
   "metadata": {},
   "source": [
    "### Convert Raw Data to DataFrame\n",
    "* Export the city data into a .csv.\n",
    "* Display the DataFrame"
   ]
  },
  {
   "cell_type": "code",
   "execution_count": null,
   "metadata": {},
   "outputs": [],
   "source": [
    "#city_data_df=pd.DataFrame(city_data)\n",
    "\n",
    "city_data_df = pd.DataFrame(\n",
    "    {'City': name,\n",
    "     'Cloudiness': cloudness,\n",
    "     'Country': country,\n",
    "     'Date': date,\n",
    "     'Humidity': humidity,\n",
    "     'Lat': lat,\n",
    "     'Lng': lng,\n",
    "     'Max Temp': max_temp,\n",
    "     'Wind Speed': wind_speed\n",
    "    })\n",
    "\n",
    "city_data_df.to_csv(\"city_data.csv\",index=True)\n",
    "city_data_df.count()"
   ]
  },
  {
   "cell_type": "code",
   "execution_count": null,
   "metadata": {
    "scrolled": true
   },
   "outputs": [],
   "source": []
  },
  {
   "cell_type": "markdown",
   "metadata": {},
   "source": [
    "### Plotting the Data\n",
    "* Use proper labeling of the plots using plot titles (including date of analysis) and axes labels.\n",
    "* Save the plotted figures as .pngs."
   ]
  },
  {
   "cell_type": "markdown",
   "metadata": {},
   "source": [
    "#### Latitude vs. Temperature Plot"
   ]
  },
  {
   "cell_type": "code",
   "execution_count": null,
   "metadata": {},
   "outputs": [],
   "source": [
    "plt.scatter(lat, max_temp  , marker=\"o\", facecolors=\"darkblue\", edgecolors=\"black\",\n",
    "            alpha=0.75)\n",
    "plt.grid()\n",
    "plt.title(\"City Latitude vs. Max Temperature(%s)\"%time.strftime(\"%x\"))\n",
    "plt.xlabel(\"Latitude\")\n",
    "plt.ylabel(\"Max Temperature (F)\")\n",
    "\n",
    "plt.savefig(\"CityLat_vs_maxTemp.png\")\n",
    "plt.show()"
   ]
  },
  {
   "cell_type": "markdown",
   "metadata": {},
   "source": [
    "#### Latitude vs. Humidity Plot"
   ]
  },
  {
   "cell_type": "code",
   "execution_count": null,
   "metadata": {},
   "outputs": [],
   "source": [
    "plt.scatter(lat, humidity  , marker=\"o\", facecolors=\"darkblue\", edgecolors=\"black\",\n",
    "            alpha=0.75)\n",
    "plt.grid()\n",
    "plt.title(\"City Latitude vs. Humidity (%s)\" % time.strftime(\"%x\"))\n",
    "plt.xlabel(\"Latitude\")\n",
    "plt.ylabel(\"Humidity(%)\")\n",
    "\n",
    "plt.savefig(\"CityLat_vs_humidity.png\")\n",
    "plt.show()"
   ]
  },
  {
   "cell_type": "markdown",
   "metadata": {},
   "source": [
    "#### Latitude vs. Cloudiness Plot"
   ]
  },
  {
   "cell_type": "code",
   "execution_count": null,
   "metadata": {},
   "outputs": [],
   "source": [
    "plt.scatter(lat, cloudness , marker=\"o\", facecolors=\"darkblue\", edgecolors=\"black\",\n",
    "            alpha=0.75)\n",
    "plt.grid()\n",
    "plt.title(\"City Latitude vs Cloudiness(%s)\" % time.strftime(\"%x\"))\n",
    "plt.xlabel(\"Latitude\")\n",
    "plt.ylabel(\"Cloudiness(%)\")\n",
    "\n",
    "plt.savefig(\"CityLat_vs_cloudiness.png\")\n",
    "plt.show()"
   ]
  },
  {
   "cell_type": "markdown",
   "metadata": {},
   "source": [
    "#### Latitude vs. Wind Speed Plot"
   ]
  },
  {
   "cell_type": "code",
   "execution_count": null,
   "metadata": {},
   "outputs": [],
   "source": [
    "plt.scatter(lat, wind_speed , marker=\"o\", facecolors=\"darkblue\", edgecolors=\"black\",\n",
    "            alpha=0.75)\n",
    "plt.grid()\n",
    "plt.title(\"City Latitude vs Wind Speed(%s)\" % time.strftime(\"%x\"))\n",
    "plt.xlabel(\"Latitude\")\n",
    "plt.ylabel(\"Wind Speed\")\n",
    "\n",
    "plt.savefig(\"CityLat_vs_windspeed.png\")\n",
    "plt.show()"
   ]
  },
  {
   "cell_type": "markdown",
   "metadata": {},
   "source": [
    "### Analysis"
   ]
  },
  {
   "cell_type": "markdown",
   "metadata": {},
   "source": [
    "#### Observed Trend 1:  City closed to equatorial region has the higest temperature\n",
    "#### Observed Trend 2:  City closed to Poles have higher relative humidity\n",
    "#### Observed Trend 3:  City Cloudness is similar along the different Latitude\n",
    "#### Observed Trend 4:  City Wind Speed is also similar along the different Latitude"
   ]
  },
  {
   "cell_type": "code",
   "execution_count": null,
   "metadata": {},
   "outputs": [],
   "source": []
  }
 ],
 "metadata": {
  "anaconda-cloud": {},
  "kernel_info": {
   "name": "python3"
  },
  "kernelspec": {
   "display_name": "Python 3",
   "language": "python",
   "name": "python3"
  },
  "language_info": {
   "codemirror_mode": {
    "name": "ipython",
    "version": 3
   },
   "file_extension": ".py",
   "mimetype": "text/x-python",
   "name": "python",
   "nbconvert_exporter": "python",
   "pygments_lexer": "ipython3",
   "version": "3.7.1"
  },
  "nteract": {
   "version": "0.12.3"
  }
 },
 "nbformat": 4,
 "nbformat_minor": 2
}
